{
 "cells": [
  {
   "cell_type": "code",
   "execution_count": 1,
   "metadata": {},
   "outputs": [
    {
     "data": {
      "text/plain": [
       "(array([  10.,   26.,   95.,  868., 1086., 1680., 3917., 1358.,  675.,\n",
       "         285.]),\n",
       " array([0.38095238, 0.44285714, 0.5047619 , 0.56666667, 0.62857143,\n",
       "        0.69047619, 0.75238095, 0.81428571, 0.87619048, 0.93809524,\n",
       "        1.        ]),\n",
       " <a list of 10 Patch objects>)"
      ]
     },
     "execution_count": 1,
     "metadata": {},
     "output_type": "execute_result"
    },
    {
     "data": {
      "image/png": "[encoded data removed]",
      "text/plain": [
       "<matplotlib.figure.Figure at 0x110d758d0>"
      ]
     },
     "metadata": {},
     "output_type": "display_data"
    }
   ],
   "source": [
    "##中心极限定理 表示样本容量足够大，样本平均数会是正态分布，但是在多个样本平均数情况下，它才为真。\n",
    "\n",
    "import numpy as np\n",
    "import matplotlib.pyplot as plt\n",
    "%matplotlib inline\n",
    "from IPython.core.interactiveshell import InteractiveShell\n",
    "InteractiveShell.ast_node_interactivity = \"all\" #所有的变量信息都可以打印出来\n",
    "\n",
    "np.random.seed(42)\n",
    "\n",
    "stundents = np.array([1,0,1,1,1,1,0,0,1,0,1,1,0,1,1,1,1,1,1,1,1])\n",
    "stundents.mean()\n",
    "\n",
    "sample=np.random.choice(stundents,21)\n",
    "sample.mean()\n",
    "proportions=[np.random.choice(stundents,21).mean() for _ in range(10000)]\n",
    "plt.hist(proportions)"
   ]
  },
  {
   "cell_type": "code",
   "execution_count": 3,
   "metadata": {},
   "outputs": [
    {
     "data": {
      "text/plain": [
       "(-10.414599391793885, -5.585400608206114)"
      ]
     },
     "execution_count": 3,
     "metadata": {},
     "output_type": "execute_result"
    }
   ],
   "source": [
    "import statsmodels.stats.api as sms\n",
    "\n",
    "X1,X2 = np.arange(10,21),np.arange(20,26.5,.5)\n",
    "\n",
    "cm = sms.CompareMeans(sms.DescrStatsW(X1),sms.DescrStatsW(X2))\n",
    "\n",
    "cm.tconfint_diff(usevar='unequal')"
   ]
  }
 ],
 "metadata": {
  "kernelspec": {
   "display_name": "Python 3",
   "language": "python",
   "name": "python3"
  },
  "language_info": {
   "codemirror_mode": {
    "name": "ipython",
    "version": 3
   },
   "file_extension": ".py",
   "mimetype": "text/x-python",
   "name": "python",
   "nbconvert_exporter": "python",
   "pygments_lexer": "ipython3",
   "version": "3.6.6"
  },
  "toc": {
   "nav_menu": {},
   "number_sections": true,
   "sideBar": true,
   "skip_h1_title": false,
   "title_cell": "Table of Contents",
   "title_sidebar": "Contents",
   "toc_cell": false,
   "toc_position": {},
   "toc_section_display": true,
   "toc_window_display": false
  }
 },
 "nbformat": 4,
 "nbformat_minor": 2
}
